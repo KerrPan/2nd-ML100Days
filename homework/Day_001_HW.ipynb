{
 "cells": [
  {
   "cell_type": "markdown",
   "metadata": {},
   "source": [
    "#### 作業1\n",
    "請上 Kaggle, 在 Competitions 或 Dataset 中找一組競賽或資料並寫下：\n",
    "* 找到一組Dataset:Iris Flower Dataset Multiclass Classification\n",
    "\n",
    "#### Q1. 你選的這組資料為何重要\n",
    "* 是在圖型識別領域中，最常被引用到的資料集之一，能夠幫助理解機器學習的應用方式\n",
    "\n",
    "#### Q2. 資料從何而來 (tips: 譬如提供者是誰、以什麼方式蒐集)\n",
    "* 可以探訪種植者，直接對植株進行量測記錄\n",
    "\n",
    "#### Q3. 蒐集而來的資料型態為何\n",
    "* 應屬於結構化的資料，其中包含萼片長」、「萼片寬」、「花瓣長」、「花瓣寬」、「鳶尾花的品種」\n",
    "\n",
    "#### Q4. 這組資料想解決的問題如何評估\n",
    "* 可評估其識別後的結果是否有正確識別出鳶尾花的品種\n"
   ]
  },
  {
   "cell_type": "markdown",
   "metadata": {},
   "source": [
    "#### 作業2\n",
    "想像你經營一個自由載客車隊，你希望能透過數據分析以提升業績，請你思考並描述你如何規劃整體的分析/解決方案：\n",
    "\n",
    "#### Q1. 核心問題為何 (tips：如何定義 「提升業績 & 你的假設」)\n",
    "* 載客車隊業績的來源影響主要有a.載客的時間, b.載客的距離, c.載客的次數\n",
    "    而a.會受到塞車的情況而影響到真實的收益\n",
    "    c.則可能載了很多次短途，還比不上一次的長途收費\n",
    "    因此在對於業績收益能夠有比較直接相關性的影響應該以b為主\n",
    "    \n",
    "    ==>所以可以思考去分析怎麼樣的時間、地點可以有較長的載客距離而提升車隊的業績。\n",
    "    \n",
    "#### Q2. 資料從何而來 (tips：哪些資料可能會對你想問的問題產生影響 & 資料如何蒐集)\n",
    "* 如A1所回答，主要可以進行載客距離的資料收集，並且需紀錄上、下車的時間，以及上、下車的地點(可以是GPS定位座標)\n",
    "    資料來源可以由各車上的計程錶進行記錄與收集：\n",
    "        a.乘客上車時開啟計程錶紀錄上車的時間,上車GPS位置；\n",
    "        b.下車的時候記錄下車的時間，下車GPS位置\n",
    "        c.當次收取的費用\n",
    "\n",
    "#### Q3. 蒐集而來的資料型態為何\n",
    "* 應屬於結構化的資料，其中包含紀錄編號ID、時間、位置、費用\n",
    "\n",
    "#### Q4. 你要回答的問題，其如何評估 (tips：你的假設如何驗證)\n",
    "* 根據Kaggle上的競賽題目「New York City Taxi Trip Duration」，可以參考使用 Root Mean Squared Logarithmic Error 來評估所預測的載客距離\n"
   ]
  },
  {
   "cell_type": "markdown",
   "metadata": {},
   "source": [
    "## 練習時間\n",
    "#### 請寫一個函式用來計算 Mean Square Error\n",
    "$ MSE = \\frac{1}{n}\\sum_{i=1}^{n}{(Y_i - \\hat{Y}_i)^2} $\n",
    "\n",
    "### Hint: [如何取平方](https://googoodesign.gitbooks.io/-ezpython/unit-1.html)"
   ]
  },
  {
   "cell_type": "code",
   "execution_count": 30,
   "metadata": {},
   "outputs": [],
   "source": [
    "import numpy as np\n",
    "import matplotlib.pyplot as plt"
   ]
  },
  {
   "cell_type": "code",
   "execution_count": 31,
   "metadata": {},
   "outputs": [],
   "source": [
    "def mean_squared_error(y, yp):\n",
    "    \"\"\"\n",
    "    計算 MSE\n",
    "    Args:\n",
    "        - y: 實際值\n",
    "        - yp: 預測值\n",
    "    Return:\n",
    "        - mse: MSE\n",
    "    \"\"\"\n",
    "    mse = MSE = sum((y - yp)**2) / len(y)\n",
    "    return mse    \n"
   ]
  },
  {
   "cell_type": "code",
   "execution_count": 32,
   "metadata": {},
   "outputs": [],
   "source": [
    "def mean_absolute_error(y, yp):\n",
    "    \"\"\"\n",
    "    計算 MAE\n",
    "    Args:\n",
    "        - y: 實際值\n",
    "        - yp: 預測值\n",
    "    Return:\n",
    "        - mae: MAE\n",
    "    \"\"\"\n",
    "    mae = MAE = sum(abs(y - yp)) / len(y)\n",
    "    return mae"
   ]
  },
  {
   "cell_type": "code",
   "execution_count": 33,
   "metadata": {},
   "outputs": [
    {
     "data": {
      "image/png": "[encoded data removed]",
      "text/plain": [
       "<Figure size 432x288 with 1 Axes>"
      ]
     },
     "metadata": {
      "needs_background": "light"
     },
     "output_type": "display_data"
    }
   ],
   "source": [
    "w = 3\n",
    "b = 0.5\n",
    "\n",
    "x_lin = np.linspace(0, 100, 101)\n",
    "\n",
    "y = (x_lin + np.random.randn(101) * 5) * w + b\n",
    "\n",
    "plt.plot(x_lin, y, 'b.', label = 'data points')\n",
    "plt.title(\"Assume we have data points\")\n",
    "plt.legend(loc = 2)\n",
    "plt.show()"
   ]
  },
  {
   "cell_type": "code",
   "execution_count": 34,
   "metadata": {},
   "outputs": [
    {
     "data": {
      "image/png": "[encoded data removed]",
      "text/plain": [
       "<Figure size 432x288 with 1 Axes>"
      ]
     },
     "metadata": {
      "needs_background": "light"
     },
     "output_type": "display_data"
    }
   ],
   "source": [
    "y_hat = x_lin * w + b\n",
    "plt.plot(x_lin, y, 'b.', label = 'data')\n",
    "plt.plot(x_lin, y_hat, 'r-', label = 'prediction')\n",
    "plt.title(\"Assume we have data points (And the prediction)\")\n",
    "plt.legend(loc = 2)\n",
    "plt.show()"
   ]
  },
  {
   "cell_type": "code",
   "execution_count": 35,
   "metadata": {},
   "outputs": [
    {
     "name": "stdout",
     "output_type": "stream",
     "text": [
      "The Mean squared error is 310.732\n",
      "The Mean absolute error is 15.032\n"
     ]
    }
   ],
   "source": [
    "# 執行 Function, 確認有沒有正常執行\n",
    "MSE = mean_squared_error(y, y_hat)\n",
    "MAE = mean_absolute_error(y, y_hat)\n",
    "print(\"The Mean squared error is %.3f\" % (MSE))\n",
    "print(\"The Mean absolute error is %.3f\" % (MAE))"
   ]
  },
  {
   "cell_type": "code",
   "execution_count": null,
   "metadata": {},
   "outputs": [],
   "source": []
  }
 ],
 "metadata": {
  "anaconda-cloud": {},
  "celltoolbar": "Raw Cell Format",
  "kernelspec": {
   "display_name": "Python 3",
   "language": "python",
   "name": "python3"
  },
  "language_info": {
   "codemirror_mode": {
    "name": "ipython",
    "version": 3
   },
   "file_extension": ".py",
   "mimetype": "text/x-python",
   "name": "python",
   "nbconvert_exporter": "python",
   "pygments_lexer": "ipython3",
   "version": "3.7.1"
  }
 },
 "nbformat": 4,
 "nbformat_minor": 1
}
