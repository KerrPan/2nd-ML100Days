{
 "cells": [
  {
   "cell_type": "markdown",
   "metadata": {},
   "source": [
    "## 練習時間\n",
    "在小量的資料上，我們用眼睛就可以看得出來程式碼是否有跑出我們理想中的結果\n",
    "\n",
    "請嘗試想像一個你需要的資料結構 (裡面的值可以是隨機的)，然後用上述的方法把它變成 pandas DataFrame\n",
    "\n",
    "#### Ex: 想像一個 dataframe 有兩個欄位，一個是國家，一個是人口，求人口數最多的國家\n",
    "\n",
    "### Hints: [隨機產生數值](https://blog.csdn.net/christianashannon/article/details/78867204)"
   ]
  },
  {
   "cell_type": "code",
   "execution_count": 21,
   "metadata": {},
   "outputs": [],
   "source": [
    "import pandas as pd\n",
    "import numpy as np"
   ]
  },
  {
   "cell_type": "code",
   "execution_count": 22,
   "metadata": {},
   "outputs": [],
   "source": [
    "data = {'國家': ['C1', 'C3', 'C2'],\n",
    "        '人口': np.random.randint(1000 ,size = 3)}  #產生 3 組隨機人口數 0~1000 \n",
    "\n",
    "people = pd.DataFrame(data)"
   ]
  },
  {
   "cell_type": "code",
   "execution_count": 23,
   "metadata": {},
   "outputs": [
    {
     "name": "stdout",
     "output_type": "stream",
     "text": [
      "   國家   人口\n",
      "0  C1  539\n",
      "1  C3  561\n",
      "2  C2  690\n"
     ]
    }
   ],
   "source": [
    "print(people)"
   ]
  },
  {
   "cell_type": "code",
   "execution_count": 29,
   "metadata": {},
   "outputs": [
    {
     "name": "stdout",
     "output_type": "stream",
     "text": [
      "C2\n",
      "=====\n",
      "國家     C2\n",
      "人口    690\n",
      "Name: 2, dtype: object\n",
      "=====\n",
      "0    C1\n",
      "1    C3\n",
      "2    C2\n",
      "Name: 國家, dtype: object\n"
     ]
    }
   ],
   "source": [
    "max_idx =  people[\"人口\"].idxmax() #人口最多的index\n",
    "print(people.loc[max_idx,\"國家\"])  #人口最多的國家\n",
    "\n",
    "print(\"=====\")\n",
    "print(people.loc[max_idx])  #人口最多的index的資料全部顯示\n",
    "\n",
    "print(\"=====\")\n",
    "print(people.loc[:,\"國家\"])  #顯示國家的資料"
   ]
  },
  {
   "cell_type": "markdown",
   "metadata": {},
   "source": [
    "# 有兩種數值的時候,max會怎麼運算?"
   ]
  },
  {
   "cell_type": "code",
   "execution_count": 30,
   "metadata": {},
   "outputs": [
    {
     "name": "stdout",
     "output_type": "stream",
     "text": [
      "country     c3\n",
      "people     416\n",
      "money      701\n",
      "dtype: object\n"
     ]
    }
   ],
   "source": [
    "country = [\"c1\" ,\"c2\" ,\"c3\"]\n",
    "people = np.random.randint(500 ,size = 3)\n",
    "money = np.random.randint(800 ,size = 3)\n",
    "\n",
    "my_data_fram ={\n",
    "    \"country\":country,\n",
    "    \"people\":people,\n",
    "    \"money\":money\n",
    "}\n",
    "\n",
    "my_fram = pd.DataFrame(my_data_fram)\n",
    "\n",
    "print(my_fram.max())\n",
    "\n",
    "#help(my_fram.max)"
   ]
  },
  {
   "cell_type": "code",
   "execution_count": null,
   "metadata": {},
   "outputs": [],
   "source": []
  }
 ],
 "metadata": {
  "kernelspec": {
   "display_name": "Python 3",
   "language": "python",
   "name": "python3"
  },
  "language_info": {
   "codemirror_mode": {
    "name": "ipython",
    "version": 3
   },
   "file_extension": ".py",
   "mimetype": "text/x-python",
   "name": "python",
   "nbconvert_exporter": "python",
   "pygments_lexer": "ipython3",
   "version": "3.7.1"
  }
 },
 "nbformat": 4,
 "nbformat_minor": 2
}
